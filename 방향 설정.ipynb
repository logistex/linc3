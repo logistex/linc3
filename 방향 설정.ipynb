{
 "cells": [
  {
   "cell_type": "markdown",
   "metadata": {
    "collapsed": true,
    "pycharm": {
     "name": "#%% md\n"
    }
   },
   "source": [
    "# 링크 3.0 사업의 방향 설정"
   ]
  },
  {
   "cell_type": "markdown",
   "source": [
    "## 수요맞춤성장 유형으로 결정\n",
    "\n",
    "- 교육부의 사업 기획 의도에 호응\n",
    "  Linc+를 진행했다면, 인프라 구축보다는 수요 맞춤 성장에 집중\n",
    "\n",
    "  ![유형1](https://user-images.githubusercontent.com/10287629/148645559-9f52f47c-0e30-4465-a3a6-8dfc13abe561.png)"
   ],
   "metadata": {
    "collapsed": false,
    "pycharm": {
     "name": "#%% md\n"
    }
   }
  },
  {
   "cell_type": "markdown",
   "source": [
    "  - 사업 비중의 차이\n",
    "  ![유형2](https://user-images.githubusercontent.com/10287629/148645589-4343bd0d-5e64-4185-b3fa-bb56e9124b3a.png)\n",
    "  - 사업 내용의 차이\n",
    "  ![유형3](https://user-images.githubusercontent.com/10287629/148645590-0d8ceaa7-b57e-43b0-98ec-05030dff4e0e.png)"
   ],
   "metadata": {
    "collapsed": false
   }
  },
  {
   "cell_type": "markdown",
   "source": [
    "- 우리 대학의 여건에 적합\n",
    "  - Linc+ 실적 및 인프라\n",
    "  - 신산업에 대한 우리 대학의 추진 의지\n",
    "- 경쟁구도 분석\n",
    "  - 유형1에서 44개교, 유형2에서 15개교 선발 예정\n",
    "  - 유형1에서 1단계 6개교, 2단계 7개교 선발 예상\n",
    "  - 우리 대학은 기업가치창출 영역이 강점, 인력양성 영역이 약점\n",
    "  - 평가 배점은 기업가치창출 영역이 크고, 인력양성 영역이 작음\n",
    "  - 경쟁 구도는 만만치 않으나, 도전해야!\n",
    "    (인천재능, 동양미래, 연성, 대림, 유한대, 동서울대, 부천대, 인하공전, ...)\n",
    "\n",
    "  |평가영역| 유형1  |유형2|\n",
    "  |------|---|---|\n",
    "  |*비전 및 협력체제*| *20* |25|\n",
    "  |*인력양성*| *35* |40|\n",
    "  |*기업가치창출*| *20* |10|\n",
    "  |공유협업| 15   |15|\n",
    "  |지속가능성| 10   |10|\n",
    "  |합계| 100  |100|\n"
   ],
   "metadata": {
    "collapsed": false
   }
  },
  {
   "cell_type": "markdown",
   "source": [
    "## 추진 방향\n",
    "\n",
    "- 3개 ICC(기업협업센터)가 주도하는 추진 체계\n",
    "  - 채용연계 기반 주문식 교육과정 고도화 및 산학협력기반 교육환경 고도화\n",
    "  - 신산업, 미래산업 교육과정 확산 및 산학 연계 교육 고도화\n",
    "  - 기업가치창출 활성화  및 맞춤형 기업지원 고도화\n",
    "  - 재직자 교육 고도화 및 유료 활성화\n",
    "  - 실용기술 창업지원교육\n",
    "\n",
    "  |ICC|학부|학과|\n",
    "  |------|---|---|\n",
    "  |AI 융합 혁신 센터|미래 IT|SW융합/스마트IT/빅데이터/(AI)<br>빅데이터 트랙|\n",
    "  |산학디자인센터|라이프 디자인|패션디자인/섬유패션디자인/니트패션디자인/인테리어디자인/산업디자인/ 세라믹디자인<br>토탈패션 트랙|\n",
    "  |\"|융합 콘텐츠|시각미디어디자인/영상콘텐츠(실감콘텐츠)/문예창작/실용음악<br>웹툰 트랙|\n",
    "  |Life Care 센터|휴먼 케어|유아교육/사회복지/아동보육/식품영양/보건행정/치위생/스포츠건강관리<br>실버케어 트랙|\n",
    "  |\"|스마트 비즈니스|비서인재/서비스경영/세무회계/행정실무<br>자격증 트랙|\n",
    "  |\"|글로벌 서비스|호텔관광/항공/외식산업/영어/일어/중국어<br>토파스 트랙|\n"
   ],
   "metadata": {
    "collapsed": false,
    "pycharm": {
     "name": "#%% md\n"
    }
   }
  },
  {
   "cell_type": "markdown",
   "source": [
    "- 사회수요맞춤형 교육\n",
    "  - 활로 창출: 연봉 수준 및 취업 비율을 높일 수 있는 미래 산업 수요를 포착\n",
    "  - 학과 융합: 학과 장벽을 넘어, 교수 및 학생을 융합\n",
    "  - 성과 창출: 연봉 수준 및 취업 비율을 제고\n",
    "  - 학과 구조 조정: 사회수요맞춤형 교육을 통한 학과 융합 및 신설\n",
    "\n",
    "  ![취업 연봉](https://user-images.githubusercontent.com/10287629/148647683-5d66cb63-e524-44f5-b8bf-d3bcad3712c9.png)\n",
    "   &#8251; 본 차트의 수치는 가상적 데이터에 기반한 것임\n"
   ],
   "metadata": {
    "collapsed": false
   }
  },
  {
   "cell_type": "markdown",
   "source": [
    "- 대학 발전 방향과의 연계성\n",
    "  - 시대적 요구 3F\n",
    "    - female leadership(소통, 팀웍)\n",
    "    - feeling(감성, 개인맞춤형)\n",
    "    - fiction(상상력)\n",
    "  - 성공 요소 5S\n",
    "    - story(3F 시대 여성 신산업 인력양성)\n",
    "    - site(AI융합혁신센터, VR실, 첨단 매체 교실)\n",
    "    - spirit(사랑의실천 정신과 연계한 ESG)\n",
    "    - system(제도, 전산체계)\n",
    "    - sustainability(지속가능성, 환류에 의한 고도화)\n",
    "  - 신산업 정의\n",
    "    - IT + (feeling, fiction) = AI\n",
    "    - 전공분야 + AI = 신산업\n",
    "    - 모든 학부의 신산업화\n"
   ],
   "metadata": {
    "collapsed": false
   }
  },
  {
   "cell_type": "markdown",
   "source": [
    "## 추진 과제\n",
    "\n",
    "- ICC 주요 과제\n",
    "  - 교육 기획 및 운영 지원\n",
    "    - 수요맞춤형 교육\n",
    "    - 창업 교육\n",
    "  - 기업협업 기획 및 실행 지원\n",
    "    - 산학협력정보관\n",
    "    - 기술 지원\n",
    "    - 재직자 교육\n",
    "    - 교육 콘텐츠 개발\n",
    "    - 공용 장비 활용\n",
    "  - 실적 및 성과 관리\n",
    "- 공유/협업\n",
    "  - 처장 및 단장 주도로 대상 대학/기관 모색\n",
    "  - 지역 내부/외부 및 해외를 대상으로 공유/협엽 모색\n",
    "- 하이유시스템 정비\n",
    "  - 학사제도 유연화 (학과융합형 사맞춤 교육, 집중이수제, 유연학기제, 팀티칭, ...)\n",
    "  - 하이유시스템 유연성 확보를 통한 대학 경쟁력 기반 구축\n",
    "- 산학협력 친화형 업적 평가 및 수당\n",
    "  - 업적평가 배점 체계의 정비\n",
    "  - 성과 중심형 (실적 건수보다는 성과를 중시)\n",
    "  - 산학협력 실적만으로도 업적을 인정받도록\n",
    "    업적평가 점수 및 성과 보수 금액 현실화\n",
    "  - Linc 3.0 웹 사이트에 등록된 실적만 인정\n",
    "- 온라인 저장소를 활용한 캡스톤디자인 교육\n",
    "  - 참여 업체의 캡스톤디자인 작품 요청 등록\n",
    "  - 참여 학생의 주제 선정 및 팀 구성 등록\n",
    "  - 참여 업체 전문가의 수업 진행 참여\n",
    "  - 기획/분석/설계/구현 보고서 및 산출물 등록\n",
    "  - 단계적 보고서 및 산출물에 대한 참여 업체의 피드백 및 지도\n",
    "    온라인 멘토링 예약 시스템 지원\n",
    "  - 캡스톤디자인 연계형 현장실습\n",
    "  - 완성 작품의 온/오프 라인 전시 및 평가 등록\n",
    "    팀별 온라인 게시판 지원\n",
    "  - 캡스톤디자인 산출물 평가에 기반한 채용\n",
    "    채용 면접 일자 조율 시스템 지원\n",
    "- Linc 3.0 사업의 체계와 현황에 대한 웹 사이트 구축\n",
    "  - 비전, 전략, 과제\n",
    "  - 실적 및 성과\n",
    "  - Dashboard"
   ],
   "metadata": {
    "collapsed": false,
    "pycharm": {
     "name": "#%% md\n"
    }
   }
  },
  {
   "cell_type": "markdown",
   "source": [
    "## 추진 일정\n"
   ],
   "metadata": {
    "collapsed": false,
    "pycharm": {
     "name": "#%% md\n"
    }
   }
  },
  {
   "cell_type": "markdown",
   "source": [
    "## 추진 조직\n",
    "\n",
    "-\n"
   ],
   "metadata": {
    "collapsed": false,
    "pycharm": {
     "name": "#%% md\n"
    }
   }
  },
  {
   "cell_type": "markdown",
   "source": [
    "## 협조 요청 사항\n",
    "\n",
    "- 교무처\n",
    "- 학사제도 및 정보시스템 점검, 과제 도출\n",
    "- 업적평가 및 수당체계 점검, 과제 도출\n",
    "- 교육 시설 확대 문제 점검, 과제 도출\n",
    "- 기획처\n",
    "- 혁신 사업 예산 중복 문제 점검, 과제 도출\n",
    "- 학생처\n",
    "- 사회맞춤형 취업률 관리 체계 점검, 과제 도출\n",
    "\n"
   ],
   "metadata": {
    "collapsed": false,
    "pycharm": {
     "name": "#%% md\n"
    }
   }
  },
  {
   "cell_type": "markdown",
   "source": [
    "## 기존 실적"
   ],
   "metadata": {
    "collapsed": false,
    "pycharm": {
     "name": "#%% md\n"
    }
   }
  },
  {
   "cell_type": "code",
   "execution_count": null,
   "outputs": [],
   "source": [],
   "metadata": {
    "collapsed": false,
    "pycharm": {
     "name": "#%%\n"
    }
   }
  }
 ],
 "metadata": {
  "kernelspec": {
   "display_name": "Python 3",
   "language": "python",
   "name": "python3"
  },
  "language_info": {
   "codemirror_mode": {
    "name": "ipython",
    "version": 2
   },
   "file_extension": ".py",
   "mimetype": "text/x-python",
   "name": "python",
   "nbconvert_exporter": "python",
   "pygments_lexer": "ipython2",
   "version": "2.7.6"
  }
 },
 "nbformat": 4,
 "nbformat_minor": 0
}